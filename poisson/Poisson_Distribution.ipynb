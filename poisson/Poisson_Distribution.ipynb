{
 "cells": [
  {
   "cell_type": "markdown",
   "metadata": {},
   "source": [
    "# Probability Distributions\n",
    "## Poisson Distribution\n",
    "### Nikolas Schnellbächer (last revision 2018-10-19)"
   ]
  },
  {
   "cell_type": "code",
   "execution_count": 6,
   "metadata": {},
   "outputs": [],
   "source": [
    "import numpy as np\n",
    "import matplotlib as mpl\n",
    "import matplotlib.pyplot as plt\n",
    "from scipy import stats\n",
    "from scipy.stats import poisson"
   ]
  },
  {
   "cell_type": "markdown",
   "metadata": {},
   "source": [
    "The Poisson distribution is a very common probability distribution to describe stochastic processes and a common distribution for general statisics. Hence it is often used as a noise model for physical processes.\n",
    "We call a discrete random variable $K$ Poisson distributed, if its probability mass function (PMF) is given by\n",
    "\\begin{align}\n",
    "p_{\\mu}(k) = p(K=k;\\, \\mu) = \\dfrac{\\mu^k}{k!} e^{-\\mu}  \\, ,\n",
    "\\end{align}\n",
    "where $\\mu$ is the only shape parameter of this distribution. The random variable $K$ can take any discrete integer value $k\\ge 0$."
   ]
  },
  {
   "cell_type": "markdown",
   "metadata": {},
   "source": [
    "Using a python environment we use scipy's built in functionality to work with Poisson distributions.\n",
    "For this purpose use the \n",
    "```python\n",
    "from scipy.stats import poisson\n",
    "```\n",
    "statement. Then you can access the probability mass function in the following way\n",
    "```python\n",
    "poisson.pmf(k, mu, loc)\n",
    "```\n",
    "where $k$ is the discrete random variable, $\\mu$ the shape parameter and `loc` the location parameter of the Poisson distribution."
   ]
  },
  {
   "cell_type": "markdown",
   "metadata": {},
   "source": [
    "The central feature of the Poisson distribution is the fact, that its only shape parameter $\\mu$ equals its mean and its variance.\n",
    "\\begin{align}\n",
    "E[K] \\equiv \\langle k\\rangle = \\mu\n",
    "\\end{align}\n",
    "and\n",
    "\\begin{align}\n",
    "\\text{Var}[K] \\equiv \\sigma^2 \\equiv \\langle k^2\\rangle - \\langle k\\rangle^2 = \\mu\n",
    "\\end{align}\n",
    "This implies that for the Poisson distribution we also have that\n",
    "\\begin{align}\n",
    "\\dfrac{\\sigma}{\\mu} = \\dfrac{\\sqrt{\\langle k^2\\rangle - \\langle k\\rangle^2}}{\\langle k\\rangle} = \\dfrac{\\sqrt{\\mu}}{\\mu} = \\dfrac{1}{\\sqrt{\\mu}} \\, .\n",
    "\\end{align}\n",
    "In comparison to other well known statistical distributions it is interesting, that the Poisson distribution can be derived from a Binomial distribution $B_{n,p}(k)=B(k;\\, n, p)$ in the limit of $n\\rightarrow \\infty$ and $p\\rightarrow 0$, such that\n",
    "$np = \\text{const.} =: \\mu$."
   ]
  },
  {
   "cell_type": "markdown",
   "metadata": {},
   "source": [
    "## Moments of the Poisson distribution\n",
    "Additionally to the mean and the variance as given above the moments of the Poisson distribution satisfy the following recursion relation\n",
    "\\begin{align}\n",
    "\\mu \\dfrac{d}{d\\mu} \\langle k^n \\rangle = \\langle k^{n+1}\\rangle - \\mu \\langle k^n \\rangle\n",
    "\\end{align}"
   ]
  },
  {
   "cell_type": "code",
   "execution_count": 4,
   "metadata": {},
   "outputs": [],
   "source": [
    "def plot_pmfs(X, muVals, labels):\n",
    "    \"\"\"\n",
    "    plot Poisson probability mass functions\n",
    "    \"\"\"\n",
    "    \n",
    "    pColors = ['#CCCCCC', 'C0', 'C1', 'C2']\n",
    "    \n",
    "    f, ax = plt.subplots(1)\n",
    "    f.set_size_inches(5.5, 3.5)\n",
    "    \n",
    "    ax.set_xlabel(r'$k$', fontsize = 18.0)\n",
    "    ax.set_ylabel(r'$p(k\\, ; \\mu)$', fontsize = 18.0)\n",
    "    ax.xaxis.labelpad = 4.0\n",
    "    ax.yaxis.labelpad = 4.0 \n",
    "    \n",
    "    labelfontsize = 15.0\n",
    "    \n",
    "    for tick in ax.xaxis.get_major_ticks():\n",
    "        tick.label.set_fontsize(labelfontsize)\n",
    "    for tick in ax.yaxis.get_major_ticks():\n",
    "        tick.label.set_fontsize(labelfontsize)\n",
    "    \n",
    "    lineWidth = 1.5    \n",
    "    \n",
    "    ax.plot([-5.0, 35.0], [0.0, 0.0], \n",
    "             color = pColors[0],\n",
    "             alpha = 1.0,\n",
    "             lw = lineWidth,\n",
    "             zorder = 2,\n",
    "             dashes = [4.0, 2.0])\n",
    "    \n",
    "    for i in range(len(muVals)):\n",
    "    \n",
    "        ax.plot(X[:, 0], X[:, i + 1], \n",
    "                 color = pColors[i + 1],\n",
    "                 alpha = 1.0,\n",
    "                 lw = lineWidth,\n",
    "                 zorder = 2,\n",
    "                 label = r'')\n",
    "             \n",
    "        ax.scatter(X[:, 0], X[:, i + 1],\n",
    "                    s = 20.0,\n",
    "                    lw = lineWidth,\n",
    "                    facecolor = pColors[i + 1],\n",
    "                    edgecolor = 'None',\n",
    "                    zorder = 11,\n",
    "                    label = labels[i])\n",
    "        \n",
    "    leg = ax.legend(handlelength = 0.25, \n",
    "                    scatterpoints = 1,\n",
    "                    markerscale = 1.0,\n",
    "                    ncol = 1,\n",
    "                    fontsize = 14.0)\n",
    "    leg.draw_frame(False)\n",
    "    plt.gca().add_artist(leg)\n",
    "        \n",
    "    ax.set_xlim(-0.5, 19.0)\n",
    "\n",
    "    return None"
   ]
  },
  {
   "cell_type": "code",
   "execution_count": 5,
   "metadata": {},
   "outputs": [
    {
     "name": "stdout",
     "output_type": "stream",
     "text": [
      "CPU times: user 63.9 ms, sys: 6.26 ms, total: 70.2 ms\n",
      "Wall time: 71.4 ms\n"
     ]
    },
    {
     "data": {
      "image/png": "[encoded data removed]",
      "text/plain": [
       "<Figure size 396x252 with 1 Axes>"
      ]
     },
     "metadata": {
      "needs_background": "light"
     },
     "output_type": "display_data"
    }
   ],
   "source": [
    "%%time\n",
    "# create Poisson distribution\n",
    "muVals = [1.0, 5.0, 9.0]   \n",
    "xVals = np.arange(0, 30, 1)\n",
    "\n",
    "X = np.zeros((len(xVals), len(muVals) + 1))\n",
    "X[:, 0] = xVals\n",
    "\n",
    "for i, mu in enumerate(muVals):\n",
    "\n",
    "    yVals = poisson.pmf(xVals, mu)\n",
    "    assert xVals.shape == yVals.shape, \"Error: Shape assertion failed.\"\n",
    "    \n",
    "    X[:, i + 1] = yVals\n",
    "    \n",
    "labels = [r'$\\mu = 1$',\n",
    "          r'$\\mu = 5$',\n",
    "          r'$\\mu = 9$']\n",
    "\n",
    "plot_pmfs(X, muVals, labels)"
   ]
  }
 ],
 "metadata": {
  "kernelspec": {
   "display_name": "Python 3",
   "language": "python",
   "name": "python3"
  },
  "language_info": {
   "codemirror_mode": {
    "name": "ipython",
    "version": 3
   },
   "file_extension": ".py",
   "mimetype": "text/x-python",
   "name": "python",
   "nbconvert_exporter": "python",
   "pygments_lexer": "ipython3",
   "version": "3.7.0"
  }
 },
 "nbformat": 4,
 "nbformat_minor": 2
}
